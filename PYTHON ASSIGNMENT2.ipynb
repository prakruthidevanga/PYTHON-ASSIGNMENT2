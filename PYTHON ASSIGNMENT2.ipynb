{
 "cells": [
  {
   "cell_type": "code",
   "execution_count": 5,
   "id": "6535626b-a580-40dd-875c-8694f0835f8e",
   "metadata": {},
   "outputs": [
    {
     "name": "stdout",
     "output_type": "stream",
     "text": [
      "* \n",
      "* * \n",
      "* * * \n",
      "* * * * \n",
      "* * * * * \n"
     ]
    }
   ],
   "source": [
    "#1st Question number \n",
    "#code:\n",
    "n=5\n",
    "for i in range(1,6):\n",
    "    for j in range(i):\n",
    "        print('*',end=\" \")\n",
    "    print()    "
   ]
  },
  {
   "cell_type": "code",
   "execution_count": 7,
   "id": "54280d0b-e036-4fe8-a3c8-26582d76d9b1",
   "metadata": {},
   "outputs": [
    {
     "name": "stdout",
     "output_type": "stream",
     "text": [
      "* * * * * \n",
      "* * * * \n",
      "* * * \n",
      "* * \n",
      "* \n"
     ]
    }
   ],
   "source": [
    "#2nd Question number \n",
    "#code:\n",
    "n=5\n",
    "for i in range(5,0,-1):\n",
    "    for j in range(i):\n",
    "        print('*',end =\" \")\n",
    "    print()    "
   ]
  },
  {
   "cell_type": "code",
   "execution_count": 9,
   "id": "008e0f22-f2e7-48b7-888e-926a7b0d4f3a",
   "metadata": {},
   "outputs": [
    {
     "name": "stdout",
     "output_type": "stream",
     "text": [
      "1 \n",
      "2 2 \n",
      "3 3 3 \n",
      "4 4 4 4 \n"
     ]
    }
   ],
   "source": [
    "#3rd Question number \n",
    "#code:\n",
    "for i in range(1,5):\n",
    "    for j in range(i):\n",
    "        print(i,end=\" \")\n",
    "    print()"
   ]
  },
  {
   "cell_type": "code",
   "execution_count": 13,
   "id": "7ad6a106-765b-4313-a48d-71019be93358",
   "metadata": {},
   "outputs": [
    {
     "name": "stdout",
     "output_type": "stream",
     "text": [
      "1 \n",
      "1 2 \n",
      "1 2 3 \n",
      "1 2 3 4 \n",
      "1 2 3 4 5 \n"
     ]
    }
   ],
   "source": [
    "#4th Question number \n",
    "#code:\n",
    "n=5\n",
    "for i in range(1,6):\n",
    "    for j in range(1,i+1):\n",
    "        print(j,end=\" \")\n",
    "    print()"
   ]
  },
  {
   "cell_type": "code",
   "execution_count": 45,
   "id": "50371901-6eca-43df-9869-e42299cc5692",
   "metadata": {},
   "outputs": [
    {
     "name": "stdout",
     "output_type": "stream",
     "text": [
      "5 4 3 2 1 \n",
      "4 3 2 1 \n",
      "3 2 1 \n",
      "2 1 \n",
      "1 \n"
     ]
    }
   ],
   "source": [
    "#5th Question number \n",
    "#code:\n",
    "n=5\n",
    "for i in range(5,0,-1):\n",
    "    for j in range(i,0,-1):\n",
    "        print(j,end=\" \")\n",
    "    print()"
   ]
  },
  {
   "cell_type": "code",
   "execution_count": 47,
   "id": "0fffba3e-184b-4be0-8e6b-7dc28d6b5cb9",
   "metadata": {},
   "outputs": [
    {
     "name": "stdout",
     "output_type": "stream",
     "text": [
      "* * * * * \n",
      "*       * \n",
      "*       * \n",
      "*       * \n",
      "* * * * * \n"
     ]
    }
   ],
   "source": [
    "#6th Question number \n",
    "#code:\n",
    "n=5\n",
    "for i in range(5):\n",
    "    for j in range(5):\n",
    "        if i==0 or i==5-1 or j==0 or j==5-1:\n",
    "            print(\"*\",end=\" \")\n",
    "        else:\n",
    "            print(\" \",end=\" \")\n",
    "    print()"
   ]
  },
  {
   "cell_type": "code",
   "execution_count": 51,
   "id": "e30a8230-1932-4be2-a32b-d75e18d9597c",
   "metadata": {},
   "outputs": [
    {
     "name": "stdout",
     "output_type": "stream",
     "text": [
      "  * \n",
      " * * \n",
      "* * * \n",
      " * * \n",
      "  * \n",
      "   \n"
     ]
    }
   ],
   "source": [
    "#7th Question number \n",
    "#code:\n",
    "for i in range(1,4):\n",
    "    for j in range(1,4-i):\n",
    "        print(end=\" \")\n",
    "    for j in range(1,i+1):\n",
    "        print('*',end=\" \")\n",
    "    print()\n",
    "for i in range(1,4):\n",
    "    for j in range(1,i+1):\n",
    "        print(end=\" \")\n",
    "    for j in range(1,4-i):\n",
    "        print('*',end=\" \")\n",
    "    print()"
   ]
  },
  {
   "cell_type": "code",
   "execution_count": 7,
   "id": "ffc88bdf-c331-4286-b48f-ab5df92651c2",
   "metadata": {},
   "outputs": [
    {
     "name": "stdin",
     "output_type": "stream",
     "text": [
      "enter the number of rows: 5\n"
     ]
    },
    {
     "name": "stdout",
     "output_type": "stream",
     "text": [
      "    1 \n",
      "   1 1 \n",
      "  1 2 1 \n",
      " 1 3 3 1 \n",
      "1 4 6 4 1 \n"
     ]
    }
   ],
   "source": [
    "#8th Question number \n",
    "#code:\n",
    "n=int(input(\"enter the number of rows:\"))\n",
    "for i in range(n):\n",
    "    value=1\n",
    "    for j in range(n-i-1):\n",
    "        print(\" \",end=\"\")\n",
    "    for j in range(i+1):\n",
    "        print(value,end=\" \")\n",
    "        value=value*(i-j)//(j+1)\n",
    "    print()"
   ]
  },
  {
   "cell_type": "code",
   "execution_count": 9,
   "id": "31369eed-1f64-4dcd-afc3-2117145f1171",
   "metadata": {},
   "outputs": [
    {
     "name": "stdin",
     "output_type": "stream",
     "text": [
      "enter a number 5\n"
     ]
    },
    {
     "name": "stdout",
     "output_type": "stream",
     "text": [
      "6\n"
     ]
    }
   ],
   "source": [
    "#9th Question number \n",
    "#code:\n",
    "n=int(input(\"enter a number\"))\n",
    "sum=0\n",
    "for i in range(2,n+1,2):\n",
    "    if i%2==0:\n",
    "        sum+=i\n",
    "print(sum)"
   ]
  },
  {
   "cell_type": "code",
   "execution_count": 13,
   "id": "0d196ed8-be7e-49a9-b620-d79e14825250",
   "metadata": {},
   "outputs": [
    {
     "name": "stdin",
     "output_type": "stream",
     "text": [
      " 5\n"
     ]
    },
    {
     "name": "stdout",
     "output_type": "stream",
     "text": [
      "120\n"
     ]
    }
   ],
   "source": [
    "#10th Question number \n",
    "#code:\n",
    "n=int(input())\n",
    "f=1\n",
    "if n<0:\n",
    "    print(\"negative number\")\n",
    "elif n==0 or n==1:\n",
    "    print(\"factorial is 1\")\n",
    "else:\n",
    "    for i in range(1,n+1):\n",
    "        f*=i\n",
    "print(f)"
   ]
  },
  {
   "cell_type": "code",
   "execution_count": 15,
   "id": "ce939cc6-af16-44f6-b1db-2dc2d2f825e7",
   "metadata": {},
   "outputs": [
    {
     "name": "stdin",
     "output_type": "stream",
     "text": [
      " 4\n"
     ]
    },
    {
     "name": "stdout",
     "output_type": "stream",
     "text": [
      "not prime\n"
     ]
    }
   ],
   "source": [
    "#11th Question number \n",
    "#code:\n",
    "def prime(n):\n",
    "    if n>1:\n",
    "        for i in range(2,n):\n",
    "            if n%i==0:\n",
    "                print(\"not prime\")\n",
    "                break\n",
    "            else:\n",
    "                print(\"prime\")\n",
    "    else:\n",
    "         print(\"not prime\")\n",
    "n=int(input())\n",
    "prime(n)"
   ]
  },
  {
   "cell_type": "code",
   "execution_count": 19,
   "id": "c5e57dc2-96cb-4ac5-976d-83a2fa07c5b1",
   "metadata": {},
   "outputs": [
    {
     "name": "stdin",
     "output_type": "stream",
     "text": [
      " a\n"
     ]
    },
    {
     "name": "stdout",
     "output_type": "stream",
     "text": [
      "1\n"
     ]
    }
   ],
   "source": [
    "#12th Question number \n",
    "#code:\n",
    "str=input()\n",
    "str.lower()\n",
    "c=0\n",
    "for i in str:\n",
    "    if i=='a' or i=='e' or i=='i' or i=='o' or i=='u':\n",
    "        c+=1\n",
    "print(c)"
   ]
  },
  {
   "cell_type": "code",
   "execution_count": 21,
   "id": "a4da750d-5515-42c6-936d-3d6fb1b8f641",
   "metadata": {},
   "outputs": [
    {
     "name": "stdin",
     "output_type": "stream",
     "text": [
      "enter a string: prakruthi\n"
     ]
    },
    {
     "name": "stdout",
     "output_type": "stream",
     "text": [
      " ihturkarp\n"
     ]
    }
   ],
   "source": [
    "#13th Question number \n",
    "#code:\n",
    "def reversed(s):\n",
    "    reversed_str=\" \"\n",
    "    for i in range(len(s)-1,-1,-1):\n",
    "        reversed_str+=s[i]\n",
    "    return reversed_str\n",
    "s=input(\"enter a string:\")\n",
    "reversed_s=reversed(s)\n",
    "print(reversed_s)"
   ]
  },
  {
   "cell_type": "code",
   "execution_count": 23,
   "id": "1c4ddb4e-5c4a-47d2-b01b-5addf8e35395",
   "metadata": {},
   "outputs": [
    {
     "name": "stdin",
     "output_type": "stream",
     "text": [
      " prakruthi\n"
     ]
    },
    {
     "name": "stdout",
     "output_type": "stream",
     "text": [
      "p\n",
      "pr\n",
      "pra\n",
      "prak\n",
      "prakr\n",
      "prakru\n",
      "prakrut\n",
      "prakruth\n",
      "prakruthi\n",
      "r\n",
      "ra\n",
      "rak\n",
      "rakr\n",
      "rakru\n",
      "rakrut\n",
      "rakruth\n",
      "rakruthi\n",
      "a\n",
      "ak\n",
      "akr\n",
      "akru\n",
      "akrut\n",
      "akruth\n",
      "akruthi\n",
      "k\n",
      "kr\n",
      "kru\n",
      "krut\n",
      "kruth\n",
      "kruthi\n",
      "r\n",
      "ru\n",
      "rut\n",
      "ruth\n",
      "ruthi\n",
      "u\n",
      "ut\n",
      "uth\n",
      "uthi\n",
      "t\n",
      "th\n",
      "thi\n",
      "h\n",
      "hi\n",
      "i\n"
     ]
    }
   ],
   "source": [
    "#14th Question number \n",
    "#code:\n",
    "string=input()\n",
    "for i in range(len(string)):\n",
    "    for j in range(i+1,len(string)+1):\n",
    "        print(string[i:j])"
   ]
  },
  {
   "cell_type": "code",
   "execution_count": 25,
   "id": "0aad712d-ff10-4220-93be-b7a597fa0117",
   "metadata": {},
   "outputs": [
    {
     "name": "stdin",
     "output_type": "stream",
     "text": [
      " prakruthi\n"
     ]
    },
    {
     "name": "stdout",
     "output_type": "stream",
     "text": [
      "p:1\n",
      "r:2\n",
      "a:1\n",
      "k:1\n",
      "u:1\n",
      "t:1\n",
      "h:1\n",
      "i:1\n"
     ]
    }
   ],
   "source": [
    "#15th Question number \n",
    "#code:\n",
    "string=input()\n",
    "char_frequency={}\n",
    "for char in string:\n",
    "    if char in char_frequency:\n",
    "        char_frequency[char]+=1\n",
    "    else:\n",
    "        char_frequency[char]=1\n",
    "for char,freq in char_frequency.items():\n",
    "    print(f\"{char}:{freq}\")"
   ]
  },
  {
   "cell_type": "code",
   "execution_count": 27,
   "id": "10ebc8dd-30c9-4070-86bb-c54b950fec56",
   "metadata": {},
   "outputs": [
    {
     "name": "stdout",
     "output_type": "stream",
     "text": [
      "0 1 1 2 3 5 8 13 21 34 "
     ]
    }
   ],
   "source": [
    "#16th Question number \n",
    "#code:\n",
    "def fib(n):\n",
    "    a=0\n",
    "    b=1\n",
    "    for i in range(0,n):\n",
    "        print(a,end=\" \")\n",
    "        a,b=b,a+b\n",
    "fib(10)"
   ]
  },
  {
   "cell_type": "code",
   "execution_count": 37,
   "id": "d082c300-b37e-4e4b-8456-480a8891e9fb",
   "metadata": {},
   "outputs": [
    {
     "name": "stdout",
     "output_type": "stream",
     "text": [
      "  1   2   3   4   5   6   7   8   9  10 \n",
      "  2   4   6   8  10  12  14  16  18  20 \n",
      "  3   6   9  12  15  18  21  24  27  30 \n",
      "  4   8  12  16  20  24  28  32  36  40 \n",
      "  5  10  15  20  25  30  35  40  45  50 \n",
      "  6  12  18  24  30  36  42  48  54  60 \n",
      "  7  14  21  28  35  42  49  56  63  70 \n",
      "  8  16  24  32  40  48  56  64  72  80 \n",
      "  9  18  27  36  45  54  63  72  81  90 \n",
      " 10  20  30  40  50  60  70  80  90 100 \n"
     ]
    }
   ],
   "source": [
    "#17th Question number \n",
    "#code:\n",
    "for i in range(1,10+1):\n",
    "    for j in range(1,10+1):\n",
    "        print(f\"{i*j:3}\",end=\" \")\n",
    "    print()"
   ]
  },
  {
   "cell_type": "code",
   "execution_count": 35,
   "id": "8405be5c-85ad-4442-a486-580c8be46b38",
   "metadata": {},
   "outputs": [
    {
     "name": "stdin",
     "output_type": "stream",
     "text": [
      " 3\n"
     ]
    },
    {
     "name": "stdout",
     "output_type": "stream",
     "text": [
      "1 2 3 \n",
      "4 5 6 \n",
      "7 8 9 \n"
     ]
    }
   ],
   "source": [
    "#18th Question number \n",
    "#code:\n",
    "n=int(input())\n",
    "num=1\n",
    "for i in range(n):\n",
    "    for j in range(n):\n",
    "        print(num,end=\" \")\n",
    "        num+=1\n",
    "    print()"
   ]
  }
 ],
 "metadata": {
  "kernelspec": {
   "display_name": "Python 3 (ipykernel)",
   "language": "python",
   "name": "python3"
  },
  "language_info": {
   "codemirror_mode": {
    "name": "ipython",
    "version": 3
   },
   "file_extension": ".py",
   "mimetype": "text/x-python",
   "name": "python",
   "nbconvert_exporter": "python",
   "pygments_lexer": "ipython3",
   "version": "3.12.4"
  }
 },
 "nbformat": 4,
 "nbformat_minor": 5
}
